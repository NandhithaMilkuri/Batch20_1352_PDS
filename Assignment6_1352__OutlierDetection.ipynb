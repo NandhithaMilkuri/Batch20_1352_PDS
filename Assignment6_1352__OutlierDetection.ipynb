{
  "nbformat": 4,
  "nbformat_minor": 0,
  "metadata": {
    "colab": {
      "provenance": [],
      "authorship_tag": "ABX9TyM3bTksD22xI/NtJDWE2ABi",
      "include_colab_link": true
    },
    "kernelspec": {
      "name": "python3",
      "display_name": "Python 3"
    },
    "language_info": {
      "name": "python"
    }
  },
  "cells": [
    {
      "cell_type": "markdown",
      "metadata": {
        "id": "view-in-github",
        "colab_type": "text"
      },
      "source": [
        "<a href=\"https://colab.research.google.com/github/NandhithaMilkuri/Batch20_1352_PDS/blob/main/Assignment6_1352__OutlierDetection.ipynb\" target=\"_parent\"><img src=\"https://colab.research.google.com/assets/colab-badge.svg\" alt=\"Open In Colab\"/></a>"
      ]
    },
    {
      "cell_type": "markdown",
      "source": [
        "Hospital Dataset – Outlier Detection & Removal"
      ],
      "metadata": {
        "id": "wSPQQrOMQkjM"
      }
    },
    {
      "cell_type": "code",
      "execution_count": 9,
      "metadata": {
        "colab": {
          "base_uri": "https://localhost:8080/",
          "height": 0
        },
        "id": "MSm-MrY9PQz_",
        "outputId": "6b3b1691-fff8-427b-d1af-ebac415cae63"
      },
      "outputs": [
        {
          "output_type": "stream",
          "name": "stdout",
          "text": [
            "First few rows:\n",
            "   Patient_ID  Age  Gender      Condition                 Procedure   Cost  \\\n",
            "0           1   45  Female  Heart Disease               Angioplasty  15000   \n",
            "1           2   60    Male       Diabetes           Insulin Therapy   2000   \n",
            "2           3   32  Female  Fractured Arm          X-Ray and Splint    500   \n",
            "3           4   75    Male         Stroke    CT Scan and Medication  10000   \n",
            "4           5   50  Female         Cancer  Surgery and Chemotherapy  25000   \n",
            "\n",
            "   Length_of_Stay Readmission    Outcome  Satisfaction  \n",
            "0               5          No  Recovered             4  \n",
            "1               3         Yes     Stable             3  \n",
            "2               1          No  Recovered             5  \n",
            "3               7         Yes     Stable             2  \n",
            "4              10          No  Recovered             4  \n"
          ]
        }
      ],
      "source": [
        "import pandas as pd\n",
        "import numpy as np\n",
        "\n",
        "df = pd.read_csv('hospital_data_analysis.csv')\n",
        "print(\"First few rows:\")\n",
        "print(df.head())"
      ]
    },
    {
      "cell_type": "code",
      "source": [
        "print(\"\\nAge column statistics BEFORE cleaning:\")\n",
        "print(df['Age'].describe())\n",
        "print(\"Any ages < 0? \", (df['Age'] < 0).sum())\n",
        "print(\"Any ages > 120? \", (df['Age'] > 120).sum())"
      ],
      "metadata": {
        "colab": {
          "base_uri": "https://localhost:8080/",
          "height": 0
        },
        "id": "2gHfn4NCPx38",
        "outputId": "f72e175b-e3a1-46e4-b0fb-56a45544e149"
      },
      "execution_count": 10,
      "outputs": [
        {
          "output_type": "stream",
          "name": "stdout",
          "text": [
            "\n",
            "Age column statistics BEFORE cleaning:\n",
            "count    984.000000\n",
            "mean      53.754065\n",
            "std       14.941135\n",
            "min       25.000000\n",
            "25%       45.000000\n",
            "50%       55.000000\n",
            "75%       65.000000\n",
            "max       78.000000\n",
            "Name: Age, dtype: float64\n",
            "Any ages < 0?  0\n",
            "Any ages > 120?  0\n"
          ]
        }
      ]
    },
    {
      "cell_type": "code",
      "source": [
        "print(\"\\nRows with invalid ages (<0 or >120):\")\n",
        "print(df[df['Age'] < 0])\n",
        "print(df[df['Age'] > 120])\n"
      ],
      "metadata": {
        "colab": {
          "base_uri": "https://localhost:8080/",
          "height": 0
        },
        "id": "t1fOaWRGP8tV",
        "outputId": "d4c26155-ec69-4483-e552-02c487d5fd40"
      },
      "execution_count": 11,
      "outputs": [
        {
          "output_type": "stream",
          "name": "stdout",
          "text": [
            "\n",
            "Rows with invalid ages (<0 or >120):\n",
            "Empty DataFrame\n",
            "Columns: [Patient_ID, Age, Gender, Condition, Procedure, Cost, Length_of_Stay, Readmission, Outcome, Satisfaction]\n",
            "Index: []\n",
            "Empty DataFrame\n",
            "Columns: [Patient_ID, Age, Gender, Condition, Procedure, Cost, Length_of_Stay, Readmission, Outcome, Satisfaction]\n",
            "Index: []\n"
          ]
        }
      ]
    },
    {
      "cell_type": "code",
      "source": [
        "df_clean = df[(df['Age'] >= 0) & (df['Age'] <= 120)].copy()\n"
      ],
      "metadata": {
        "id": "N4jNWuX-QFjw"
      },
      "execution_count": 12,
      "outputs": []
    },
    {
      "cell_type": "code",
      "source": [
        "print(\"\\nAge column statistics AFTER cleaning:\")\n",
        "print(df_clean['Age'].describe())\n",
        "print(\"Any ages < 0? \", (df_clean['Age'] < 0).sum())\n",
        "print(\"Any ages > 120? \", (df_clean['Age'] > 120).sum())"
      ],
      "metadata": {
        "colab": {
          "base_uri": "https://localhost:8080/",
          "height": 0
        },
        "id": "8O0xtnz6QNSR",
        "outputId": "dfa3c4ec-159c-4252-a0c1-cbe1fd6d87e5"
      },
      "execution_count": 13,
      "outputs": [
        {
          "output_type": "stream",
          "name": "stdout",
          "text": [
            "\n",
            "Age column statistics AFTER cleaning:\n",
            "count    984.000000\n",
            "mean      53.754065\n",
            "std       14.941135\n",
            "min       25.000000\n",
            "25%       45.000000\n",
            "50%       55.000000\n",
            "75%       65.000000\n",
            "max       78.000000\n",
            "Name: Age, dtype: float64\n",
            "Any ages < 0?  0\n",
            "Any ages > 120?  0\n"
          ]
        }
      ]
    },
    {
      "cell_type": "code",
      "source": [
        "print(\"\\nRows before cleaning: \", df.shape[0])\n",
        "print(\"Rows after cleaning: \", df_clean.shape[0])\n",
        "\n",
        "# Save cleaned data if needed\n",
        "df_clean.to_csv('hospital_admissions_data_cleaned.csv', index=False)"
      ],
      "metadata": {
        "colab": {
          "base_uri": "https://localhost:8080/",
          "height": 0
        },
        "id": "3gMnXoKWQXb5",
        "outputId": "ec8f5193-52ba-4708-920c-5935c52ef22f"
      },
      "execution_count": 14,
      "outputs": [
        {
          "output_type": "stream",
          "name": "stdout",
          "text": [
            "\n",
            "Rows before cleaning:  984\n",
            "Rows after cleaning:  984\n"
          ]
        }
      ]
    },
    {
      "cell_type": "markdown",
      "source": [
        "Banking Dataset – Feature Scaling"
      ],
      "metadata": {
        "id": "K2HS1M2AQtnY"
      }
    },
    {
      "cell_type": "code",
      "source": [
        "import pandas as pd\n",
        "from sklearn.preprocessing import MinMaxScaler, StandardScaler\n",
        "df = pd.read_csv(\"bank-additional-full.csv\", sep=\";\")\n",
        "print(\"Dataset Shape:\", df.shape)\n",
        "print(\"\\nNumeric columns available:\\n\", df.select_dtypes(include=['int64','float64']).columns.tolist())"
      ],
      "metadata": {
        "colab": {
          "base_uri": "https://localhost:8080/",
          "height": 0
        },
        "id": "pGeCOd0EQbrL",
        "outputId": "58cb3cde-7cba-4a6b-ac0b-e5c380d78e49"
      },
      "execution_count": 15,
      "outputs": [
        {
          "output_type": "stream",
          "name": "stdout",
          "text": [
            "Dataset Shape: (41188, 21)\n",
            "\n",
            "Numeric columns available:\n",
            " ['age', 'duration', 'campaign', 'pdays', 'previous', 'emp.var.rate', 'cons.price.idx', 'cons.conf.idx', 'euribor3m', 'nr.employed']\n"
          ]
        }
      ]
    },
    {
      "cell_type": "code",
      "source": [
        "df_selected = df[[\"age\"]].copy()\n",
        "\n",
        "print(\"\\nFirst 10 original values (age ~ proxy for income):\")\n",
        "print(df_selected.head(10))\n"
      ],
      "metadata": {
        "colab": {
          "base_uri": "https://localhost:8080/",
          "height": 0
        },
        "id": "M_ZVP2NAS754",
        "outputId": "5909ffa2-e1a2-4a76-c6fc-2aac47e049df"
      },
      "execution_count": 2,
      "outputs": [
        {
          "output_type": "stream",
          "name": "stdout",
          "text": [
            "\n",
            "First 10 original values (age ~ proxy for income):\n",
            "   age\n",
            "0   56\n",
            "1   57\n",
            "2   37\n",
            "3   40\n",
            "4   56\n",
            "5   45\n",
            "6   59\n",
            "7   41\n",
            "8   24\n",
            "9   25\n"
          ]
        }
      ]
    },
    {
      "cell_type": "code",
      "source": [
        "min_max_scaler = MinMaxScaler()\n",
        "df_selected[\"age_MinMax\"] = min_max_scaler.fit_transform(df_selected[[\"age\"]])\n"
      ],
      "metadata": {
        "id": "MgDXQj0vTEpm"
      },
      "execution_count": 5,
      "outputs": []
    },
    {
      "cell_type": "code",
      "source": [
        "standard_scaler = StandardScaler()\n",
        "df_selected[\"age_Zscore\"] = standard_scaler.fit_transform(df_selected[[\"age\"]])"
      ],
      "metadata": {
        "id": "xXy5auHwTToL"
      },
      "execution_count": 6,
      "outputs": []
    },
    {
      "cell_type": "code",
      "source": [
        "print(\"\\nFirst 10 values after scaling:\")\n",
        "print(df_selected.head(10))"
      ],
      "metadata": {
        "colab": {
          "base_uri": "https://localhost:8080/",
          "height": 0
        },
        "id": "Slr1RNwkTW6F",
        "outputId": "4a8e9981-b428-4d8e-fdf0-8e233fc238af"
      },
      "execution_count": 7,
      "outputs": [
        {
          "output_type": "stream",
          "name": "stdout",
          "text": [
            "\n",
            "First 10 values after scaling:\n",
            "   age  age_MinMax  age_Zscore\n",
            "0   56    0.878049    1.784942\n",
            "1   57    0.902439    1.895185\n",
            "2   37    0.414634   -0.309673\n",
            "3   40    0.487805    0.021056\n",
            "4   56    0.878049    1.784942\n",
            "5   45    0.609756    0.572270\n",
            "6   59    0.951220    2.115671\n",
            "7   41    0.512195    0.131299\n",
            "8   24    0.097561   -1.742830\n",
            "9   25    0.121951   -1.632588\n"
          ]
        }
      ]
    },
    {
      "cell_type": "code",
      "source": [
        "df_selected.to_csv(\"bank_age_scaled.csv\", index=False)\n",
        "print(\"\\nScaled dataset saved as 'bank_age_scaled.csv'\")"
      ],
      "metadata": {
        "colab": {
          "base_uri": "https://localhost:8080/",
          "height": 0
        },
        "id": "C7UG7R8KTaWK",
        "outputId": "bd39d573-e35a-4cc4-a4fa-707ab2d247d8"
      },
      "execution_count": 8,
      "outputs": [
        {
          "output_type": "stream",
          "name": "stdout",
          "text": [
            "\n",
            "Scaled dataset saved as 'bank_age_scaled.csv'\n"
          ]
        }
      ]
    }
  ]
}