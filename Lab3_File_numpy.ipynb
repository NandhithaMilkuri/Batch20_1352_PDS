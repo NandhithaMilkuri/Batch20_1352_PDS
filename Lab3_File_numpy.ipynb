{
  "nbformat": 4,
  "nbformat_minor": 0,
  "metadata": {
    "colab": {
      "provenance": [],
      "authorship_tag": "ABX9TyNZB2J+wWMJtkDE3/SQuprC",
      "include_colab_link": true
    },
    "kernelspec": {
      "name": "python3",
      "display_name": "Python 3"
    },
    "language_info": {
      "name": "python"
    }
  },
  "cells": [
    {
      "cell_type": "markdown",
      "metadata": {
        "id": "view-in-github",
        "colab_type": "text"
      },
      "source": [
        "<a href=\"https://colab.research.google.com/github/NandhithaMilkuri/Batch20_1352_PDS/blob/main/Lab3_File_numpy.ipynb\" target=\"_parent\"><img src=\"https://colab.research.google.com/assets/colab-badge.svg\" alt=\"Open In Colab\"/></a>"
      ]
    },
    {
      "cell_type": "code",
      "execution_count": 37,
      "metadata": {
        "colab": {
          "base_uri": "https://localhost:8080/"
        },
        "id": "VHjG0XZ75hDA",
        "outputId": "58bdc97a-f4b9-434f-bdbd-d48afd86abf7"
      },
      "outputs": [
        {
          "output_type": "stream",
          "name": "stdout",
          "text": [
            "Data Written Succesfully\n"
          ]
        }
      ],
      "source": [
        "fp=open(\"example.txt\",\"w\")\n",
        "fp.write(\"Hello,B.Tech students!\\n\")\n",
        "fp.write(\"This is file handling in python.\\n\")\n",
        "fp.write(\"SR University.\\n\")\n",
        "fp.write(\"Suresh kumar\\n\")\n",
        "fp.close()\n",
        "print(\"Data Written Succesfully\")"
      ]
    },
    {
      "cell_type": "code",
      "source": [
        "file=open(\"example.txt\",\"r\")\n",
        "content=file.read()\n",
        "print(content)\n",
        "file.close()"
      ],
      "metadata": {
        "colab": {
          "base_uri": "https://localhost:8080/"
        },
        "id": "-jyol5wH6P2B",
        "outputId": "07dff05b-35ab-4cbc-f50a-753bd10d62dc"
      },
      "execution_count": 20,
      "outputs": [
        {
          "output_type": "stream",
          "name": "stdout",
          "text": [
            "Hello,B.Tech students!\n",
            "This is file handling in python.\n",
            "SR University.\n",
            "Suresh kumar\n"
          ]
        }
      ]
    },
    {
      "cell_type": "code",
      "source": [
        "file=open(\"example.txt\",\"r\")\n",
        "line1=file.readline()\n",
        "line2=file.readline()\n",
        "print(\"First line : \",line1)\n",
        "print(\"Second Line: \",line2)\n",
        "file.close()"
      ],
      "metadata": {
        "colab": {
          "base_uri": "https://localhost:8080/"
        },
        "id": "pf36mJPd7E4I",
        "outputId": "0e137f02-fd05-4482-ba70-2e5578907a0f"
      },
      "execution_count": 28,
      "outputs": [
        {
          "output_type": "stream",
          "name": "stdout",
          "text": [
            "First line :  Hello,B.Tech students!\n",
            "\n",
            "Second Line:  This is file handling in python.\n",
            "\n"
          ]
        }
      ]
    },
    {
      "cell_type": "code",
      "source": [
        "file=open(\"example.txt\",\"r\")\n",
        "line3=file.readline()\n",
        "line4=file.readline()\n",
        "print(\"Third line : \",line3)\n",
        "print(\"Fourth Line: \",line4)\n",
        "file.close()\n"
      ],
      "metadata": {
        "colab": {
          "base_uri": "https://localhost:8080/"
        },
        "id": "3v4EmVR8-IXm",
        "outputId": "a64b0df5-1187-447e-ed12-1aba6b6400f2"
      },
      "execution_count": 35,
      "outputs": [
        {
          "output_type": "stream",
          "name": "stdout",
          "text": [
            "Third line :  Hello,B.Tech students!\n",
            "\n",
            "Fourth Line:  This is file handling in python.\n",
            "\n"
          ]
        }
      ]
    },
    {
      "cell_type": "code",
      "source": [
        "file=open(\"example.txt\",\"r\")\n",
        "lines=file.readlines()\n",
        "print(lines)\n",
        "file.close()"
      ],
      "metadata": {
        "colab": {
          "base_uri": "https://localhost:8080/"
        },
        "id": "lI89DMmb-0AF",
        "outputId": "a33d9034-8eaf-4a8c-9216-839cb9c7d69f"
      },
      "execution_count": 31,
      "outputs": [
        {
          "output_type": "stream",
          "name": "stdout",
          "text": [
            "['Hello,B.Tech students!\\n', 'This is file handling in python.\\n', 'SR University.\\n', 'Suresh kumar']\n"
          ]
        }
      ]
    },
    {
      "cell_type": "code",
      "source": [
        "file=open(\"example.txt\",\"a\")\n",
        "file.write(\"Appending new data...\\n\")\n",
        "file.close()"
      ],
      "metadata": {
        "id": "OXD2kfmZ_oGY"
      },
      "execution_count": 38,
      "outputs": []
    },
    {
      "cell_type": "code",
      "source": [
        "with open(\"example.txt\",\"r\") as file:\n",
        "    content=file.read()\n",
        "    print(content)"
      ],
      "metadata": {
        "colab": {
          "base_uri": "https://localhost:8080/"
        },
        "id": "PZ5VMLPeAktr",
        "outputId": "a17ddeda-65fe-444d-b501-b9d17264cfb3"
      },
      "execution_count": 39,
      "outputs": [
        {
          "output_type": "stream",
          "name": "stdout",
          "text": [
            "Hello,B.Tech students!\n",
            "This is file handling in python.\n",
            "SR University.\n",
            "Suresh kumar\n",
            "Appending new data...\n",
            "\n"
          ]
        }
      ]
    },
    {
      "cell_type": "code",
      "source": [
        "import csv\n",
        "with open(\"data.csv\",\"w\",newline=\"\") as fp:\n",
        "    wr=csv.writer(fp)\n",
        "    wr.writerows([[\"Name\",\"Age\",\"Course\"],[\"aaa\",21,\"CSE\"],[\"bbb\",20,\"ECE\"]])\n",
        "with open(\"data.csv\",\"r\") as fp:\n",
        "    rd=csv.reader(fp)\n",
        "    for row in rd:\n",
        "        print(row)"
      ],
      "metadata": {
        "colab": {
          "base_uri": "https://localhost:8080/"
        },
        "id": "Loy3W3TQBY4m",
        "outputId": "8b7c945b-c1b9-4815-9a29-d499d65d71c5"
      },
      "execution_count": 40,
      "outputs": [
        {
          "output_type": "stream",
          "name": "stdout",
          "text": [
            "['Name', 'Age', 'Course']\n",
            "['aaa', '21', 'CSE']\n",
            "['bbb', '20', 'ECE']\n"
          ]
        }
      ]
    },
    {
      "cell_type": "code",
      "source": [
        "import numpy as np\n",
        "arr1=np.array([1,2,3,4])\n",
        "print(\"1D Array:\",arr1)"
      ],
      "metadata": {
        "colab": {
          "base_uri": "https://localhost:8080/"
        },
        "id": "TzSb0LK8D7-m",
        "outputId": "bc614796-8d57-447e-eab6-cc0748adeccc"
      },
      "execution_count": 42,
      "outputs": [
        {
          "output_type": "stream",
          "name": "stdout",
          "text": [
            "1D Array: [1 2 3 4]\n"
          ]
        }
      ]
    },
    {
      "cell_type": "code",
      "source": [
        "arr2=np.array([[1,2,3],[4,5,6]])\n",
        "print(\"2D Array:\\n\",arr2)"
      ],
      "metadata": {
        "colab": {
          "base_uri": "https://localhost:8080/"
        },
        "id": "Q3gXLRClEfrC",
        "outputId": "dd9adf7b-1753-40e5-dad2-eeef6df2dae9"
      },
      "execution_count": 43,
      "outputs": [
        {
          "output_type": "stream",
          "name": "stdout",
          "text": [
            "2D Array:\n",
            " [[1 2 3]\n",
            " [4 5 6]]\n"
          ]
        }
      ]
    },
    {
      "cell_type": "code",
      "source": [
        "zeros_arr=np.zeros((3,3))\n",
        "print(\"Zeros Array:\\n\",zeros_arr)"
      ],
      "metadata": {
        "colab": {
          "base_uri": "https://localhost:8080/"
        },
        "id": "V9lPNIx2EsCN",
        "outputId": "cc34e1c4-ab3b-4a12-bb71-cb92f20156cf"
      },
      "execution_count": 44,
      "outputs": [
        {
          "output_type": "stream",
          "name": "stdout",
          "text": [
            "Zeros Array:\n",
            " [[0. 0. 0.]\n",
            " [0. 0. 0.]\n",
            " [0. 0. 0.]]\n"
          ]
        }
      ]
    },
    {
      "cell_type": "code",
      "source": [
        "ones_zeros=np.ones((2,4))\n",
        "print(\"Ones Array:\\n\",ones_zeros)"
      ],
      "metadata": {
        "colab": {
          "base_uri": "https://localhost:8080/"
        },
        "id": "737sBxs0ExT-",
        "outputId": "0edbc004-9ee8-4545-d832-807a1dd2357c"
      },
      "execution_count": 45,
      "outputs": [
        {
          "output_type": "stream",
          "name": "stdout",
          "text": [
            "Ones Array:\n",
            " [[1. 1. 1. 1.]\n",
            " [1. 1. 1. 1.]]\n"
          ]
        }
      ]
    },
    {
      "cell_type": "code",
      "source": [
        "range_arr=np.arange(0,10,2)\n",
        "print(\"Range Array:\\n\",range_arr)"
      ],
      "metadata": {
        "colab": {
          "base_uri": "https://localhost:8080/"
        },
        "id": "-44HWdOqE2R_",
        "outputId": "49f70098-11c0-4d55-8db4-ea379685203b"
      },
      "execution_count": 46,
      "outputs": [
        {
          "output_type": "stream",
          "name": "stdout",
          "text": [
            "Range Array:\n",
            " [0 2 4 6 8]\n"
          ]
        }
      ]
    },
    {
      "cell_type": "code",
      "source": [
        "rand_arr=np.random.rand(3,3)\n",
        "print(\"Random Array:\\n\",rand_arr)"
      ],
      "metadata": {
        "colab": {
          "base_uri": "https://localhost:8080/"
        },
        "id": "FH4ZcxWSE9QV",
        "outputId": "b772bdae-67a1-4012-f1ad-118b9108a097"
      },
      "execution_count": 47,
      "outputs": [
        {
          "output_type": "stream",
          "name": "stdout",
          "text": [
            "Random Array:\n",
            " [[0.95884572 0.21487193 0.83131773]\n",
            " [0.13145207 0.34222437 0.74847535]\n",
            " [0.03652966 0.35702093 0.36134231]]\n"
          ]
        }
      ]
    },
    {
      "cell_type": "code",
      "source": [
        "arr=np.array([[1,2,3],[4,5,6]])\n",
        "print(\"shape: \",arr.shape)\n",
        "print(\"dimensions: \",arr.ndim)\n",
        "print(\"size: \",arr.size)\n",
        "print(\"data type: \",arr.dtype)\n",
        "print(\"size:\",arr.size)\n",
        "print(\"Item size\",arr.itemsize)"
      ],
      "metadata": {
        "colab": {
          "base_uri": "https://localhost:8080/"
        },
        "id": "CPBr46R-GlC9",
        "outputId": "03fe06e5-4787-4d2b-db15-32c501ee7673"
      },
      "execution_count": 48,
      "outputs": [
        {
          "output_type": "stream",
          "name": "stdout",
          "text": [
            "shape:  (2, 3)\n",
            "dimensions:  2\n",
            "size:  6\n",
            "data type:  int64\n",
            "size: 6\n",
            "Item size 8\n"
          ]
        }
      ]
    },
    {
      "cell_type": "code",
      "source": [
        "arr=np.array([10,20,30,40,50])\n",
        "print(\"First Element,\",arr[0])\n",
        "print(\"Last Element,\",arr[-1])\n",
        "print(\"Slice[1:4]\",arr[1:4])\n",
        "print(\"Every second element: \",arr[::2])"
      ],
      "metadata": {
        "colab": {
          "base_uri": "https://localhost:8080/"
        },
        "id": "QL1ZAsdhMCr9",
        "outputId": "81c4c941-9c37-42cb-9fbd-e29b19064d0d"
      },
      "execution_count": 49,
      "outputs": [
        {
          "output_type": "stream",
          "name": "stdout",
          "text": [
            "First Element, 10\n",
            "Last Element, 50\n",
            "Slice[1:4] [20 30 40]\n",
            "Every second element:  [10 30 50]\n"
          ]
        }
      ]
    },
    {
      "cell_type": "code",
      "source": [
        "arr2=np.array([[1,2,3],[4,5,6]])\n",
        "print(\"Element at Row 1,Colume 2: \",arr2[0,1])\n",
        "print(\"Second row Column: \",arr2[1,:])\n",
        "print(\"Second Column: \",arr2[:,1])"
      ],
      "metadata": {
        "colab": {
          "base_uri": "https://localhost:8080/"
        },
        "id": "OUqySPuKMdYS",
        "outputId": "0d65d99f-1a6b-4094-8ea6-e38b6abd0386"
      },
      "execution_count": 50,
      "outputs": [
        {
          "output_type": "stream",
          "name": "stdout",
          "text": [
            "Element at Row 1,Colume 2:  2\n",
            "Second row Column:  [4 5 6]\n",
            "Second Column:  [2 5]\n"
          ]
        }
      ]
    },
    {
      "cell_type": "code",
      "source": [
        "a=np.array([1,2,3])\n",
        "b=np.array([4,5,6])\n",
        "print(\"Addition: \",a+b)\n",
        "print(\"Subtraction: \",a-b)\n",
        "print(\"Multiplication: \",a*b)\n",
        "print(\"Division: \",a/b)\n",
        "print(\"Power: \",a**2)"
      ],
      "metadata": {
        "colab": {
          "base_uri": "https://localhost:8080/"
        },
        "id": "bJM6WaAlQP1r",
        "outputId": "2093cde2-9195-464e-a22a-1ba0fd8fee7a"
      },
      "execution_count": 52,
      "outputs": [
        {
          "output_type": "stream",
          "name": "stdout",
          "text": [
            "Addition:  [5 7 9]\n",
            "Subtraction:  [-3 -3 -3]\n",
            "Multiplication:  [ 4 10 18]\n",
            "Division:  [0.25 0.4  0.5 ]\n",
            "Power:  [1 4 9]\n"
          ]
        }
      ]
    },
    {
      "cell_type": "code",
      "source": [
        "arr = np.array([0, np.pi/2, np.pi])\n",
        "print(\"Sine:\", np.sin(arr))\n",
        "print(\"Cosine:\", np.cos(arr))\n",
        "print(\"Square root:\", np.sqrt([1, 4, 9]))\n",
        "print(\"Exponential:\", np.exp([1, 2]))\n",
        "print(\"Logarithm:\", np.log([1, np.e,np.e**2]))\n"
      ],
      "metadata": {
        "colab": {
          "base_uri": "https://localhost:8080/"
        },
        "id": "haO1SjZGQjmz",
        "outputId": "cb53a7c0-3ade-4233-8b1a-86f12eda2d7f"
      },
      "execution_count": 60,
      "outputs": [
        {
          "output_type": "stream",
          "name": "stdout",
          "text": [
            "Sine: [0.0000000e+00 1.0000000e+00 1.2246468e-16]\n",
            "Cosine: [ 1.000000e+00  6.123234e-17 -1.000000e+00]\n",
            "Square root: [1. 2. 3.]\n",
            "Exponential: [2.71828183 7.3890561 ]\n",
            "Logarithm: [0. 1. 2.]\n"
          ]
        }
      ]
    },
    {
      "cell_type": "code",
      "source": [
        "arr = np.array([[1, 2, 3], [4, 5, 6]])\n",
        "\n",
        "print(\"Sum:\", np.sum(arr))\n",
        "print(\"Max:\", np.max(arr))\n",
        "print(\"Min:\", np.min(arr))\n",
        "print(\"Mean:\", np.mean(arr))\n",
        "print(\"Standard Deviation:\", np.std(arr))\n",
        "print(\"Sum along axis 0:\", np.sum(arr, axis=0))  # Column-wise sum\n",
        "print(\"Sum along axis 1:\", np.sum(arr, axis=1))"
      ],
      "metadata": {
        "colab": {
          "base_uri": "https://localhost:8080/"
        },
        "id": "KA_WBpHRR46k",
        "outputId": "c78ac84d-45f9-40b3-f3f3-a496bcb3cb3e"
      },
      "execution_count": 58,
      "outputs": [
        {
          "output_type": "stream",
          "name": "stdout",
          "text": [
            "Sum: 21\n",
            "Max: 6\n",
            "Min: 1\n",
            "Mean: 3.5\n",
            "Standard Deviation: 1.707825127659933\n",
            "Sum along axis 0: [5 7 9]\n",
            "Sum along axis 1: [ 6 15]\n"
          ]
        }
      ]
    },
    {
      "cell_type": "code",
      "source": [
        "a = np.array([1, 2, 3])\n",
        "b = 5\n",
        "print(\"Add scalar to array:\", a + b)  # [6 7 8]\n",
        "\n",
        "c = np.array([[1], [2], [3]])\n",
        "d = np.array([4, 5, 6])\n",
        "print(\"Broadcasted sum:\\n\",c+d)"
      ],
      "metadata": {
        "colab": {
          "base_uri": "https://localhost:8080/"
        },
        "id": "WeG7msRHSI-x",
        "outputId": "fdff2f24-19f1-4bee-ccd3-e7a9f0853bf7"
      },
      "execution_count": 62,
      "outputs": [
        {
          "output_type": "stream",
          "name": "stdout",
          "text": [
            "Add scalar to array: [6 7 8]\n",
            "Broadcasted sum:\n",
            " [[5 6 7]\n",
            " [6 7 8]\n",
            " [7 8 9]]\n"
          ]
        }
      ]
    },
    {
      "cell_type": "code",
      "source": [
        "A = np.array([[1, 2], [3, 4]])\n",
        "B = np.array([[5, 6], [7, 8]])\n",
        "\n",
        "print(\"Matrix Multiplication:\\n\", np.dot(A, B))\n",
        "print(\"Transpose:\\n\", A.T)\n",
        "print(\"Inverse:\\n\", np.linalg.inv(A))\n",
        "print(\"Determinant:\", np.linalg.det(A))"
      ],
      "metadata": {
        "colab": {
          "base_uri": "https://localhost:8080/"
        },
        "id": "mTWdr50TVOTA",
        "outputId": "9eaf57fa-050c-4d5a-e908-68127e25c87c"
      },
      "execution_count": 63,
      "outputs": [
        {
          "output_type": "stream",
          "name": "stdout",
          "text": [
            "Matrix Multiplication:\n",
            " [[19 22]\n",
            " [43 50]]\n",
            "Transpose:\n",
            " [[1 3]\n",
            " [2 4]]\n",
            "Inverse:\n",
            " [[-2.   1. ]\n",
            " [ 1.5 -0.5]]\n",
            "Determinant: -2.0000000000000004\n"
          ]
        }
      ]
    },
    {
      "cell_type": "code",
      "source": [
        "import numpy as np\n",
        "\n",
        "# Marks of students in 3 subjects\n",
        "marks = np.array([\n",
        "    [85, 90, 88],\n",
        "    [78, 81, 85],\n",
        "    [92, 89, 95]\n",
        "])\n",
        "\n",
        "print(\"Average marks per student:\", np.mean(marks, axis=1))\n",
        "print(\"Average marks per subject:\", np.mean(marks, axis=0))\n",
        "print(\"Highest marks in each subject:\", np.max(marks, axis=0))\n",
        "print(\"Lowest marks in each subject:\", np.min(marks,axis=0))"
      ],
      "metadata": {
        "colab": {
          "base_uri": "https://localhost:8080/"
        },
        "id": "l7esGHArXSX2",
        "outputId": "ad4e0329-a0a1-40cc-9536-0dd7aa146676"
      },
      "execution_count": 65,
      "outputs": [
        {
          "output_type": "stream",
          "name": "stdout",
          "text": [
            "Average marks per student: [87.66666667 81.33333333 92.        ]\n",
            "Average marks per subject: [85.         86.66666667 89.33333333]\n",
            "Highest marks in each subject: [92 90 95]\n",
            "Lowest marks in each subject: [78 81 85]\n"
          ]
        }
      ]
    }
  ]
}