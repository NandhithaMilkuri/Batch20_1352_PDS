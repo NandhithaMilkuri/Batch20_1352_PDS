{
  "nbformat": 4,
  "nbformat_minor": 0,
  "metadata": {
    "colab": {
      "provenance": [],
      "authorship_tag": "ABX9TyP+bITQvPSCfRuSBA1qz19h",
      "include_colab_link": true
    },
    "kernelspec": {
      "name": "python3",
      "display_name": "Python 3"
    },
    "language_info": {
      "name": "python"
    }
  },
  "cells": [
    {
      "cell_type": "markdown",
      "metadata": {
        "id": "view-in-github",
        "colab_type": "text"
      },
      "source": [
        "<a href=\"https://colab.research.google.com/github/NandhithaMilkuri/Batch20_1352_PDS/blob/main/Lab5_Merging_Joining.ipynb\" target=\"_parent\"><img src=\"https://colab.research.google.com/assets/colab-badge.svg\" alt=\"Open In Colab\"/></a>"
      ]
    },
    {
      "cell_type": "code",
      "execution_count": 2,
      "metadata": {
        "colab": {
          "base_uri": "https://localhost:8080/"
        },
        "id": "36gz1Op5GMgF",
        "outputId": "e5d29522-9325-40e8-acae-95f779e0d076"
      },
      "outputs": [
        {
          "output_type": "stream",
          "name": "stdout",
          "text": [
            "    Name   Age  Marks\n",
            "0   Ravi  25.0   85.0\n",
            "1   Neha   NaN   90.0\n",
            "2  Kiran  30.0    NaN\n",
            "3   Sita  28.0   92.0\n",
            "    Name    Age  Marks\n",
            "0  False  False  False\n",
            "1  False   True  False\n",
            "2  False  False   True\n",
            "3  False  False  False\n"
          ]
        }
      ],
      "source": [
        "import pandas as pd\n",
        "import numpy as np\n",
        "data={\n",
        "    'Name':['Ravi','Neha','Kiran','Sita'],\n",
        "    'Age':[25,np.nan,30,28],\n",
        "    'Marks':[85,90,np.nan,92]\n",
        "    }\n",
        "df=pd.DataFrame(data)\n",
        "print(df)\n",
        "print(df.isnull())"
      ]
    },
    {
      "cell_type": "code",
      "source": [
        "df_dropped=df.dropna()\n",
        "print(df_dropped)"
      ],
      "metadata": {
        "colab": {
          "base_uri": "https://localhost:8080/"
        },
        "id": "QwoAfoDSG-bU",
        "outputId": "490536ea-4a2c-401e-87db-504a00a8ed07"
      },
      "execution_count": 3,
      "outputs": [
        {
          "output_type": "stream",
          "name": "stdout",
          "text": [
            "   Name   Age  Marks\n",
            "0  Ravi  25.0   85.0\n",
            "3  Sita  28.0   92.0\n"
          ]
        }
      ]
    },
    {
      "cell_type": "code",
      "source": [
        "df_filled=df.fillna(0)\n",
        "print(df_filled)\n"
      ],
      "metadata": {
        "colab": {
          "base_uri": "https://localhost:8080/"
        },
        "id": "4Co8H5Y_HV8Z",
        "outputId": "9f365bc3-802d-4e40-8bb6-b9d104fc7da9"
      },
      "execution_count": 5,
      "outputs": [
        {
          "output_type": "stream",
          "name": "stdout",
          "text": [
            "    Name   Age  Marks\n",
            "0   Ravi  25.0   85.0\n",
            "1   Neha   0.0   90.0\n",
            "2  Kiran  30.0    0.0\n",
            "3   Sita  28.0   92.0\n"
          ]
        }
      ]
    },
    {
      "cell_type": "code",
      "source": [
        "df['Age']=df['Age'].fillna(df['Age'].mean())\n",
        "df['Marks']=df['Marks'].fillna(df['Marks'].median())\n",
        "print(df)"
      ],
      "metadata": {
        "colab": {
          "base_uri": "https://localhost:8080/"
        },
        "id": "EX9b4-7lHs5d",
        "outputId": "f3f88259-75b8-4e32-ebd0-3dd4853b7970"
      },
      "execution_count": 8,
      "outputs": [
        {
          "output_type": "stream",
          "name": "stdout",
          "text": [
            "    Name        Age  Marks\n",
            "0   Ravi  25.000000   85.0\n",
            "1   Neha  27.666667   90.0\n",
            "2  Kiran  30.000000   90.0\n",
            "3   Sita  28.000000   92.0\n"
          ]
        }
      ]
    },
    {
      "cell_type": "code",
      "source": [
        "data={\n",
        "    'ID':[1,2,2,3,4,4],\n",
        "    'Name':['Ravi','Neha','Neha','Kiran','Sita','Sita'],\n",
        "    'Marks':[85,90,90,78,92,92]\n",
        "\n",
        "}\n",
        "df=pd.DataFrame(data)\n",
        "print(df)\n",
        "df_no_duplicates=df.drop_duplicates()\n",
        "print(df_no_duplicates)"
      ],
      "metadata": {
        "colab": {
          "base_uri": "https://localhost:8080/"
        },
        "id": "-jP31l2KIBQY",
        "outputId": "38ae7675-8087-4d1b-a0d0-2dfafac3276f"
      },
      "execution_count": 10,
      "outputs": [
        {
          "output_type": "stream",
          "name": "stdout",
          "text": [
            "   ID   Name  Marks\n",
            "0   1   Ravi     85\n",
            "1   2   Neha     90\n",
            "2   2   Neha     90\n",
            "3   3  Kiran     78\n",
            "4   4   Sita     92\n",
            "5   4   Sita     92\n",
            "   ID   Name  Marks\n",
            "0   1   Ravi     85\n",
            "1   2   Neha     90\n",
            "3   3  Kiran     78\n",
            "4   4   Sita     92\n"
          ]
        }
      ]
    },
    {
      "cell_type": "code",
      "source": [
        "data={\n",
        "    'ID':[1,2,3,4],\n",
        "    'Marks':['85','90','78','92']\n",
        "}\n",
        "df=pd.DataFrame(data)\n",
        "print(df)\n",
        "print(df.dtypes)\n",
        "df['ID']=pd.to_numeric(df['ID'])\n",
        "df['Marks']=df['Marks'].astype(float)\n",
        "print(df)"
      ],
      "metadata": {
        "colab": {
          "base_uri": "https://localhost:8080/"
        },
        "id": "8Bizp9XuIDYx",
        "outputId": "67a8f97e-492d-42f3-baf2-a420b736345e"
      },
      "execution_count": 13,
      "outputs": [
        {
          "output_type": "stream",
          "name": "stdout",
          "text": [
            "   ID Marks\n",
            "0   1    85\n",
            "1   2    90\n",
            "2   3    78\n",
            "3   4    92\n",
            "ID        int64\n",
            "Marks    object\n",
            "dtype: object\n",
            "   ID  Marks\n",
            "0   1   85.0\n",
            "1   2   90.0\n",
            "2   3   78.0\n",
            "3   4   92.0\n"
          ]
        }
      ]
    },
    {
      "cell_type": "code",
      "source": [
        "df['Marks']=df['Marks'].apply(lambda X:X+5)\n",
        "print(df)"
      ],
      "metadata": {
        "colab": {
          "base_uri": "https://localhost:8080/"
        },
        "id": "xuNlQdbSJbJa",
        "outputId": "88914db2-ebb4-42d3-eee2-0c2ee7cff57a"
      },
      "execution_count": 14,
      "outputs": [
        {
          "output_type": "stream",
          "name": "stdout",
          "text": [
            "   ID  Marks\n",
            "0   1   90.0\n",
            "1   2   95.0\n",
            "2   3   83.0\n",
            "3   4   97.0\n"
          ]
        }
      ]
    },
    {
      "cell_type": "code",
      "source": [
        "df['Marks_Normalized']=(df['Marks']-df['Marks'].min())/(df['Marks'].max()-df['Marks'].min())\n",
        "print(df)"
      ],
      "metadata": {
        "colab": {
          "base_uri": "https://localhost:8080/"
        },
        "id": "h33XUJWqNXy9",
        "outputId": "cc079ba1-4f53-4bbf-aab7-29bc30227fd0"
      },
      "execution_count": 17,
      "outputs": [
        {
          "output_type": "stream",
          "name": "stdout",
          "text": [
            "   ID  Marks  Marks_Normalized\n",
            "0   1   90.0          0.500000\n",
            "1   2   95.0          0.857143\n",
            "2   3   83.0          0.000000\n",
            "3   4   97.0          1.000000\n"
          ]
        }
      ]
    },
    {
      "cell_type": "code",
      "source": [
        "import pandas as pd\n",
        "Students=pd.DataFrame(\n",
        "    {\n",
        "        'Student_Id':[101,102,103,105],\n",
        "        'Name':['Ravi','Neha','Kiran','Sita'],\n",
        "    }\n",
        ")\n",
        "marks=pd.DataFrame(\n",
        "    {\n",
        "        'Student_Id':[101,102,103,104],\n",
        "        'Marks':[85,90,78,88]\n",
        "    }\n",
        ")\n",
        "merged_df=pd.merge(Students,marks,on='Student_Id',how='inner')\n",
        "print(merged_df)"
      ],
      "metadata": {
        "colab": {
          "base_uri": "https://localhost:8080/"
        },
        "id": "lJ9p2dvrKEj8",
        "outputId": "f3994ed9-2638-43da-b2e2-ddbebf3b641f"
      },
      "execution_count": 16,
      "outputs": [
        {
          "output_type": "stream",
          "name": "stdout",
          "text": [
            "   Student_Id   Name  Marks\n",
            "0         101   Ravi     85\n",
            "1         102   Neha     90\n",
            "2         103  Kiran     78\n"
          ]
        }
      ]
    },
    {
      "cell_type": "code",
      "source": [
        "inner=pd.merge(Students,marks,on='Student_Id',how='inner')\n",
        "print(\"inner join:\\n\",inner)"
      ],
      "metadata": {
        "colab": {
          "base_uri": "https://localhost:8080/"
        },
        "id": "g1PuWTB3UHhl",
        "outputId": "756c0b76-3e4f-4dbc-e8eb-c71a616ee36b"
      },
      "execution_count": 21,
      "outputs": [
        {
          "output_type": "stream",
          "name": "stdout",
          "text": [
            "inner join:\n",
            "    Student_Id   Name  Marks\n",
            "0         101   Ravi     85\n",
            "1         102   Neha     90\n",
            "2         103  Kiran     78\n"
          ]
        }
      ]
    },
    {
      "cell_type": "code",
      "source": [
        "left=pd.merge(Students,marks,on='Student_Id',how='left')\n",
        "print(\"left join:\\n\",left)"
      ],
      "metadata": {
        "colab": {
          "base_uri": "https://localhost:8080/"
        },
        "id": "fvK_iSyNUjZ3",
        "outputId": "d65cd6fe-70b8-42ba-f676-b968e19ee1c6"
      },
      "execution_count": 22,
      "outputs": [
        {
          "output_type": "stream",
          "name": "stdout",
          "text": [
            "left join:\n",
            "    Student_Id   Name  Marks\n",
            "0         101   Ravi   85.0\n",
            "1         102   Neha   90.0\n",
            "2         103  Kiran   78.0\n",
            "3         105   Sita    NaN\n"
          ]
        }
      ]
    },
    {
      "cell_type": "code",
      "source": [
        "right=pd.merge(Students,marks,on='Student_Id',how='right')\n",
        "print(\"right join:\\n\",right)"
      ],
      "metadata": {
        "colab": {
          "base_uri": "https://localhost:8080/"
        },
        "id": "y_R7JEmsUntj",
        "outputId": "3e85bfc0-883c-4e79-ba89-69060154a8ce"
      },
      "execution_count": 23,
      "outputs": [
        {
          "output_type": "stream",
          "name": "stdout",
          "text": [
            "right join:\n",
            "    Student_Id   Name  Marks\n",
            "0         101   Ravi     85\n",
            "1         102   Neha     90\n",
            "2         103  Kiran     78\n",
            "3         104    NaN     88\n"
          ]
        }
      ]
    },
    {
      "cell_type": "code",
      "source": [
        "outer = pd.merge(Students, marks, on='Student_Id', how='outer')\n",
        "print(\"\\nOuter Join:\\n\", outer)\n"
      ],
      "metadata": {
        "colab": {
          "base_uri": "https://localhost:8080/"
        },
        "id": "fbG8WLpXUrPJ",
        "outputId": "8f1f756f-e874-4edc-cba2-c8e51c0132f4"
      },
      "execution_count": 26,
      "outputs": [
        {
          "output_type": "stream",
          "name": "stdout",
          "text": [
            "\n",
            "Outer Join:\n",
            "    Student_Id   Name  Marks\n",
            "0         101   Ravi   85.0\n",
            "1         102   Neha   90.0\n",
            "2         103  Kiran   78.0\n",
            "3         104    NaN   88.0\n",
            "4         105   Sita    NaN\n"
          ]
        }
      ]
    },
    {
      "cell_type": "code",
      "source": [
        "#Student Details (index = Student_ID)\n",
        "students = pd.DataFrame({\n",
        "'Name': ['Ravi', 'Neha', 'Kiran', 'Sita']\n",
        "}, index=[101, 102, 103, 104])\n",
        "# Marks Data (index = Student_ID)\n",
        "marks = pd.DataFrame({\n",
        "'Marks': [85, 90, 78, 88]\n",
        "}, index=[101, 102, 103, 105])\n",
        "# Join based on index\n",
        "joined_df = students.join(marks, how='outer')\n",
        "print(\"Joined DataFrame:\")\n",
        "print(joined_df)\n"
      ],
      "metadata": {
        "colab": {
          "base_uri": "https://localhost:8080/"
        },
        "id": "jcrWa684VNcb",
        "outputId": "88b2a9a2-06f8-4e9d-fec3-a17bb349821f"
      },
      "execution_count": 28,
      "outputs": [
        {
          "output_type": "stream",
          "name": "stdout",
          "text": [
            "Joined DataFrame:\n",
            "      Name  Marks\n",
            "101   Ravi   85.0\n",
            "102   Neha   90.0\n",
            "103  Kiran   78.0\n",
            "104   Sita    NaN\n",
            "105    NaN   88.0\n"
          ]
        }
      ]
    },
    {
      "cell_type": "code",
      "source": [
        "students = pd.DataFrame({\n",
        "'Student_ID': [101, 102, 103, 104],\n",
        "'Name': ['Ravi', 'Neha', 'Kiran', 'Sita'],\n",
        "'Department': ['CSE', 'ECE', 'MECH', 'CSE']\n",
        "})\n",
        "marks = pd.DataFrame({\n",
        "'Student_ID': [101, 102, 104, 105],\n",
        "'Marks': [85, 90, 92, 88]\n",
        "})\n",
        "# Merge student details with marks\n",
        "final_df = pd.merge(students, marks, on='Student_ID',\n",
        "how='outer')\n",
        "print(\"Final Student Records:\")\n",
        "print(final_df)"
      ],
      "metadata": {
        "colab": {
          "base_uri": "https://localhost:8080/"
        },
        "id": "77hTDEkaVnHz",
        "outputId": "8bcc5698-44aa-4271-97db-4c88ca461ff6"
      },
      "execution_count": 29,
      "outputs": [
        {
          "output_type": "stream",
          "name": "stdout",
          "text": [
            "Final Student Records:\n",
            "   Student_ID   Name Department  Marks\n",
            "0         101   Ravi        CSE   85.0\n",
            "1         102   Neha        ECE   90.0\n",
            "2         103  Kiran       MECH    NaN\n",
            "3         104   Sita        CSE   92.0\n",
            "4         105    NaN        NaN   88.0\n"
          ]
        }
      ]
    }
  ]
}