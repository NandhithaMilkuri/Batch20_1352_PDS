{
  "nbformat": 4,
  "nbformat_minor": 0,
  "metadata": {
    "colab": {
      "provenance": [],
      "authorship_tag": "ABX9TyPVbWSVj6LY0li2QoESNFdi",
      "include_colab_link": true
    },
    "kernelspec": {
      "name": "python3",
      "display_name": "Python 3"
    },
    "language_info": {
      "name": "python"
    }
  },
  "cells": [
    {
      "cell_type": "markdown",
      "metadata": {
        "id": "view-in-github",
        "colab_type": "text"
      },
      "source": [
        "<a href=\"https://colab.research.google.com/github/NandhithaMilkuri/Batch20_1352_PDS/blob/main/List_Tuple(L2).ipynb\" target=\"_parent\"><img src=\"https://colab.research.google.com/assets/colab-badge.svg\" alt=\"Open In Colab\"/></a>"
      ]
    },
    {
      "cell_type": "code",
      "execution_count": 1,
      "metadata": {
        "colab": {
          "base_uri": "https://localhost:8080/"
        },
        "id": "OXXiPYSn2KkJ",
        "outputId": "c2456edb-ba52-4c7e-8ece-1ef08e79b569"
      },
      "outputs": [
        {
          "output_type": "stream",
          "name": "stdout",
          "text": [
            "<class 'int'> 10\n",
            "<class 'float'> 99.9\n",
            "<class 'str'> CSE\n"
          ]
        }
      ],
      "source": [
        "l=[10,99.9,\"CSE\"]\n",
        "for i in l:\n",
        "  print(type(i),i)"
      ]
    },
    {
      "cell_type": "code",
      "source": [
        "l=[10,20,10,20,10,20]\n",
        "print(l)"
      ],
      "metadata": {
        "colab": {
          "base_uri": "https://localhost:8080/"
        },
        "id": "jbGfI8MW2bx6",
        "outputId": "755572f2-6cba-4e61-bea3-bcc0086ca96f"
      },
      "execution_count": 2,
      "outputs": [
        {
          "output_type": "stream",
          "name": "stdout",
          "text": [
            "[10, 20, 10, 20, 10, 20]\n"
          ]
        }
      ]
    },
    {
      "cell_type": "code",
      "source": [
        "l=[10,20,30,40]\n",
        "print(l)\n",
        "if 20 in l:\n",
        "  print(\"found\")\n",
        "else:\n",
        "  print(\"not found\")"
      ],
      "metadata": {
        "colab": {
          "base_uri": "https://localhost:8080/"
        },
        "id": "LxXV6x4X2_xL",
        "outputId": "003e8f0f-81ce-4f7b-fec1-5718403e9085"
      },
      "execution_count": 3,
      "outputs": [
        {
          "output_type": "stream",
          "name": "stdout",
          "text": [
            "[10, 20, 30, 40]\n",
            "found\n"
          ]
        }
      ]
    },
    {
      "cell_type": "code",
      "source": [
        "l=[10,20,30,40]\n",
        "l.append(50)\n",
        "print(l)"
      ],
      "metadata": {
        "colab": {
          "base_uri": "https://localhost:8080/"
        },
        "id": "1erC4U9E3Obe",
        "outputId": "00b98793-708a-4892-acff-8cfd6e3fe3c1"
      },
      "execution_count": 4,
      "outputs": [
        {
          "output_type": "stream",
          "name": "stdout",
          "text": [
            "[10, 20, 30, 40, 50]\n"
          ]
        }
      ]
    },
    {
      "cell_type": "code",
      "source": [
        "l.remove(30)\n",
        "print(l)"
      ],
      "metadata": {
        "colab": {
          "base_uri": "https://localhost:8080/"
        },
        "id": "NXnXQFPB3VQu",
        "outputId": "786e5e61-3063-4b6e-9e9c-315623ebc89e"
      },
      "execution_count": 5,
      "outputs": [
        {
          "output_type": "stream",
          "name": "stdout",
          "text": [
            "[10, 20, 40, 50]\n"
          ]
        }
      ]
    },
    {
      "cell_type": "code",
      "source": [
        "l.insert(2,25)\n",
        "print(l)"
      ],
      "metadata": {
        "colab": {
          "base_uri": "https://localhost:8080/"
        },
        "id": "0QdcaVZN3Z4D",
        "outputId": "d00ab521-590c-45dc-b80e-3e0fa0d2f308"
      },
      "execution_count": 6,
      "outputs": [
        {
          "output_type": "stream",
          "name": "stdout",
          "text": [
            "[10, 20, 25, 40, 50]\n"
          ]
        }
      ]
    },
    {
      "cell_type": "code",
      "source": [
        "l.pop()\n",
        "print(l)"
      ],
      "metadata": {
        "colab": {
          "base_uri": "https://localhost:8080/"
        },
        "id": "829atmjY3e9H",
        "outputId": "1911c898-6eb8-4909-fb86-04664f0ce0be"
      },
      "execution_count": 7,
      "outputs": [
        {
          "output_type": "stream",
          "name": "stdout",
          "text": [
            "[10, 20, 25, 40]\n"
          ]
        }
      ]
    },
    {
      "cell_type": "code",
      "source": [
        "l=[9,26,92,56,45,16]\n",
        "l.sort()\n",
        "print(l)"
      ],
      "metadata": {
        "colab": {
          "base_uri": "https://localhost:8080/"
        },
        "id": "CEIjI7Ln3i2z",
        "outputId": "a2822c57-7068-430a-ea55-489b6593ba6b"
      },
      "execution_count": 8,
      "outputs": [
        {
          "output_type": "stream",
          "name": "stdout",
          "text": [
            "[9, 16, 26, 45, 56, 92]\n"
          ]
        }
      ]
    },
    {
      "cell_type": "code",
      "source": [
        "l.reverse()\n",
        "print(l)"
      ],
      "metadata": {
        "colab": {
          "base_uri": "https://localhost:8080/"
        },
        "id": "npfxeNu-3q57",
        "outputId": "6e3fd952-6210-4889-d83e-293506b9b76c"
      },
      "execution_count": 9,
      "outputs": [
        {
          "output_type": "stream",
          "name": "stdout",
          "text": [
            "[92, 56, 45, 26, 16, 9]\n"
          ]
        }
      ]
    },
    {
      "cell_type": "code",
      "source": [
        "print(sum(l))\n",
        "print(min(l))\n",
        "print(max(l))"
      ],
      "metadata": {
        "colab": {
          "base_uri": "https://localhost:8080/"
        },
        "id": "jbhVlo8B33QG",
        "outputId": "cf42e1e3-bf37-4e73-9fde-b5f15d48cbc8"
      },
      "execution_count": 11,
      "outputs": [
        {
          "output_type": "stream",
          "name": "stdout",
          "text": [
            "244\n",
            "9\n",
            "92\n"
          ]
        }
      ]
    },
    {
      "cell_type": "code",
      "source": [
        "Student=[[10,20],[30,40],[50,60],[70,80],[90,100]]\n",
        "print(* Student)"
      ],
      "metadata": {
        "colab": {
          "base_uri": "https://localhost:8080/"
        },
        "id": "IulcQzfR5Rj8",
        "outputId": "457a8826-0911-4971-aefa-cd51a21bf04d"
      },
      "execution_count": 53,
      "outputs": [
        {
          "output_type": "stream",
          "name": "stdout",
          "text": [
            "[10, 20] [30, 40] [50, 60] [70, 80] [90, 100]\n"
          ]
        }
      ]
    },
    {
      "cell_type": "code",
      "source": [
        "t=(\"cherry\",\"banana\",\"apple\")\n",
        "print(t)"
      ],
      "metadata": {
        "colab": {
          "base_uri": "https://localhost:8080/"
        },
        "id": "SNllt3_05j1W",
        "outputId": "555e8e71-1fc7-42fa-9d06-7af34c8efaf2"
      },
      "execution_count": 13,
      "outputs": [
        {
          "output_type": "stream",
          "name": "stdout",
          "text": [
            "('cherry', 'banana', 'apple')\n"
          ]
        }
      ]
    },
    {
      "cell_type": "code",
      "source": [
        "len(t)"
      ],
      "metadata": {
        "colab": {
          "base_uri": "https://localhost:8080/"
        },
        "id": "gB58QV9d50fc",
        "outputId": "249f0c09-4b1c-45aa-ffd6-e21102aa6259"
      },
      "execution_count": 14,
      "outputs": [
        {
          "output_type": "execute_result",
          "data": {
            "text/plain": [
              "3"
            ]
          },
          "metadata": {},
          "execution_count": 14
        }
      ]
    },
    {
      "cell_type": "code",
      "source": [
        "if \"apple\" in t:\n",
        "  print(\"Yes\")\n",
        "else:\n",
        "  print(\"No\")"
      ],
      "metadata": {
        "colab": {
          "base_uri": "https://localhost:8080/"
        },
        "id": "ZiX-cUH15-TU",
        "outputId": "a8fa781b-6869-4b65-f20c-19f7328e7c03"
      },
      "execution_count": 15,
      "outputs": [
        {
          "output_type": "stream",
          "name": "stdout",
          "text": [
            "Yes\n"
          ]
        }
      ]
    },
    {
      "cell_type": "code",
      "source": [
        "t=(10,20,30,40)\n",
        "print(t)"
      ],
      "metadata": {
        "colab": {
          "base_uri": "https://localhost:8080/"
        },
        "id": "FJ_oZ5Tg6PU8",
        "outputId": "519c8961-ffcb-40ed-9071-d60dd7b74bcd"
      },
      "execution_count": 16,
      "outputs": [
        {
          "output_type": "stream",
          "name": "stdout",
          "text": [
            "(10, 20, 30, 40)\n"
          ]
        }
      ]
    },
    {
      "cell_type": "code",
      "source": [
        "t=(10,20,30,10,20)\n",
        "print(t)"
      ],
      "metadata": {
        "colab": {
          "base_uri": "https://localhost:8080/"
        },
        "id": "L8hG4L_u7GIm",
        "outputId": "4ebc5d53-516d-4fd8-e2ea-e19679316fc5"
      },
      "execution_count": 17,
      "outputs": [
        {
          "output_type": "stream",
          "name": "stdout",
          "text": [
            "(10, 20, 30, 10, 20)\n"
          ]
        }
      ]
    },
    {
      "cell_type": "code",
      "source": [
        "t=(10,99.9,\"CSE\")\n",
        "print(t)"
      ],
      "metadata": {
        "colab": {
          "base_uri": "https://localhost:8080/"
        },
        "id": "ccHAOqSq7Pwi",
        "outputId": "d2157118-265d-415a-c545-529e960de2af"
      },
      "execution_count": 26,
      "outputs": [
        {
          "output_type": "stream",
          "name": "stdout",
          "text": [
            "(10, 99.9, 'CSE')\n"
          ]
        }
      ]
    },
    {
      "cell_type": "code",
      "source": [
        "for i in t:\n",
        "  print(type(i),i)"
      ],
      "metadata": {
        "colab": {
          "base_uri": "https://localhost:8080/"
        },
        "id": "rfKRevse7PWO",
        "outputId": "cff1d3a3-c58a-48ed-d01a-fd06da8c6e2c"
      },
      "execution_count": 20,
      "outputs": [
        {
          "output_type": "stream",
          "name": "stdout",
          "text": [
            "<class 'int'> 10\n",
            "<class 'float'> 99.9\n",
            "<class 'str'> CSE\n"
          ]
        }
      ]
    },
    {
      "cell_type": "code",
      "source": [
        "if 20 in t:\n",
        "  print(\"Yes\")\n",
        "else:\n",
        "  print(\"No\")"
      ],
      "metadata": {
        "colab": {
          "base_uri": "https://localhost:8080/"
        },
        "id": "ppParKZl7jha",
        "outputId": "25c6be47-b9b6-4daa-c10b-4ce837efc8fc"
      },
      "execution_count": 21,
      "outputs": [
        {
          "output_type": "stream",
          "name": "stdout",
          "text": [
            "No\n"
          ]
        }
      ]
    },
    {
      "cell_type": "code",
      "source": [
        "t=(1,2,3,2,3,2,4)\n",
        "print(t.count(2))\n",
        "print(t.index(4))"
      ],
      "metadata": {
        "colab": {
          "base_uri": "https://localhost:8080/"
        },
        "id": "rMd9x4rK7_4U",
        "outputId": "5a2d6aa2-784d-4bd7-faf6-3744d0445354"
      },
      "execution_count": 22,
      "outputs": [
        {
          "output_type": "stream",
          "name": "stdout",
          "text": [
            "3\n",
            "6\n"
          ]
        }
      ]
    },
    {
      "cell_type": "code",
      "source": [
        "l=[10,20,30,40]\n",
        "mytuple=tuple(l)\n",
        "print(mytuple)"
      ],
      "metadata": {
        "colab": {
          "base_uri": "https://localhost:8080/"
        },
        "id": "zVA_EWqj8T0O",
        "outputId": "1c49dbda-4cfd-430e-d42e-3e8f2308ba24"
      },
      "execution_count": 23,
      "outputs": [
        {
          "output_type": "stream",
          "name": "stdout",
          "text": [
            "(10, 20, 30, 40)\n"
          ]
        }
      ]
    },
    {
      "cell_type": "code",
      "source": [
        "Student=((10,20),(20,30),(30,40))\n",
        "print(Student)"
      ],
      "metadata": {
        "colab": {
          "base_uri": "https://localhost:8080/"
        },
        "id": "zSJkaM358dpD",
        "outputId": "53136610-34b2-471a-80ff-0f2201e1e7bb"
      },
      "execution_count": 51,
      "outputs": [
        {
          "output_type": "stream",
          "name": "stdout",
          "text": [
            "(10, 20) (20, 30) (30, 40)\n"
          ]
        }
      ]
    },
    {
      "cell_type": "code",
      "source": [
        "print(sum(t))\n",
        "print(min(t))\n",
        "print(max(t))"
      ],
      "metadata": {
        "colab": {
          "base_uri": "https://localhost:8080/"
        },
        "id": "am1fu9BG8mZf",
        "outputId": "5846205e-2b6b-4c42-ecb2-23529097d4bd"
      },
      "execution_count": 25,
      "outputs": [
        {
          "output_type": "stream",
          "name": "stdout",
          "text": [
            "17\n",
            "1\n",
            "4\n"
          ]
        }
      ]
    },
    {
      "cell_type": "code",
      "source": [
        "Student={\"name\":\"Python\",\"id\":101,\"branch\":\"CSE\"}\n",
        "print(Student.keys())\n",
        "print(Student.values())\n",
        "print(Student.items())"
      ],
      "metadata": {
        "colab": {
          "base_uri": "https://localhost:8080/"
        },
        "id": "4YQnnsUoAah-",
        "outputId": "e3aee58c-783c-4fbd-d4fe-5061f2b19dc9"
      },
      "execution_count": 28,
      "outputs": [
        {
          "output_type": "stream",
          "name": "stdout",
          "text": [
            "dict_keys(['name', 'id', 'branch'])\n",
            "dict_values(['Python', 101, 'CSE'])\n",
            "dict_items([('name', 'Python'), ('id', 101), ('branch', 'CSE')])\n"
          ]
        }
      ]
    },
    {
      "cell_type": "code",
      "source": [
        "for key,value in Student.items():\n",
        "  print(key,\":\",value)"
      ],
      "metadata": {
        "colab": {
          "base_uri": "https://localhost:8080/"
        },
        "id": "dLnA1hJeA0fN",
        "outputId": "131da353-fab0-4039-ddef-7a766c88d0c2"
      },
      "execution_count": 30,
      "outputs": [
        {
          "output_type": "stream",
          "name": "stdout",
          "text": [
            "name : Python\n",
            "id : 101\n",
            "branch : CSE\n"
          ]
        }
      ]
    },
    {
      "cell_type": "code",
      "source": [
        "Student[\"College\"]=\"SRU\"\n",
        "print(Student)"
      ],
      "metadata": {
        "colab": {
          "base_uri": "https://localhost:8080/"
        },
        "id": "ooMvoaIOBBc7",
        "outputId": "aa2451cd-b75f-4f81-8a16-55cd261c26d3"
      },
      "execution_count": 31,
      "outputs": [
        {
          "output_type": "stream",
          "name": "stdout",
          "text": [
            "{'name': 'Python', 'id': 101, 'branch': 'CSE', 'College': 'SRU'}\n"
          ]
        }
      ]
    },
    {
      "cell_type": "code",
      "source": [
        "Student[\"branch\"]=\"AIML\"\n",
        "print(Student)"
      ],
      "metadata": {
        "colab": {
          "base_uri": "https://localhost:8080/"
        },
        "id": "hkOjZUq9BMdI",
        "outputId": "de5eb510-851d-41e7-876a-a7f068e04d9b"
      },
      "execution_count": 32,
      "outputs": [
        {
          "output_type": "stream",
          "name": "stdout",
          "text": [
            "{'name': 'Python', 'id': 101, 'branch': 'AIML', 'College': 'SRU'}\n"
          ]
        }
      ]
    },
    {
      "cell_type": "code",
      "source": [
        "if \"name\" in Student:\n",
        "  print(\"Yes\")\n",
        "else:\n",
        "  print(\"No\")"
      ],
      "metadata": {
        "colab": {
          "base_uri": "https://localhost:8080/"
        },
        "id": "Ui2aITlgBWqj",
        "outputId": "4457ab8e-2cc4-4075-f9d4-00e5dfc3a107"
      },
      "execution_count": 42,
      "outputs": [
        {
          "output_type": "stream",
          "name": "stdout",
          "text": [
            "Yes\n"
          ]
        }
      ]
    },
    {
      "cell_type": "code",
      "source": [
        "Student={101:{\"name\":\"C\",\"id\":101,\"branch\":\"CSE\"},102:{\"name\":\"C++\",\"id\":102,\"branch\":\"CSE\"},103:{\"name\":\"Java\",\"id\":103,\"branch\":\"CSE\"}}\n",
        "print(Student)\n"
      ],
      "metadata": {
        "colab": {
          "base_uri": "https://localhost:8080/"
        },
        "id": "CuoKoEXjB33s",
        "outputId": "eec44fe0-6125-47b9-923d-8c7d3c58e14c"
      },
      "execution_count": 50,
      "outputs": [
        {
          "output_type": "stream",
          "name": "stdout",
          "text": [
            "101 102 103\n"
          ]
        }
      ]
    },
    {
      "cell_type": "code",
      "source": [
        "s={1,2,3,4}\n",
        "print(s)"
      ],
      "metadata": {
        "colab": {
          "base_uri": "https://localhost:8080/"
        },
        "id": "mVflfMegE4ef",
        "outputId": "352c9e02-2fe4-4efe-8536-6f602f218e67"
      },
      "execution_count": 54,
      "outputs": [
        {
          "output_type": "stream",
          "name": "stdout",
          "text": [
            "{1, 2, 3, 4}\n"
          ]
        }
      ]
    },
    {
      "cell_type": "code",
      "source": [
        "s={1,2,3,2,3,2}\n",
        "print(s)\n"
      ],
      "metadata": {
        "colab": {
          "base_uri": "https://localhost:8080/"
        },
        "id": "iWkCC6_YHBho",
        "outputId": "f25d7302-052f-4392-c838-45ef7963d01c"
      },
      "execution_count": 55,
      "outputs": [
        {
          "output_type": "stream",
          "name": "stdout",
          "text": [
            "{1, 2, 3}\n"
          ]
        }
      ]
    },
    {
      "cell_type": "code",
      "source": [
        "for i in s:\n",
        "  print(i)"
      ],
      "metadata": {
        "colab": {
          "base_uri": "https://localhost:8080/"
        },
        "id": "wnlXNga9HI89",
        "outputId": "9313fb43-51fe-4fe2-c4d2-f4b34ab3bde6"
      },
      "execution_count": 56,
      "outputs": [
        {
          "output_type": "stream",
          "name": "stdout",
          "text": [
            "1\n",
            "2\n",
            "3\n"
          ]
        }
      ]
    },
    {
      "cell_type": "code",
      "source": [
        "if 2 in s:\n",
        "  print(\"Yes\")\n",
        "else:\n",
        "  print(\"No\")"
      ],
      "metadata": {
        "colab": {
          "base_uri": "https://localhost:8080/"
        },
        "id": "vGitNXXYHcd6",
        "outputId": "56b22a49-0d03-4225-994d-85e96081b35f"
      },
      "execution_count": 57,
      "outputs": [
        {
          "output_type": "stream",
          "name": "stdout",
          "text": [
            "Yes\n"
          ]
        }
      ]
    },
    {
      "cell_type": "code",
      "source": [
        "A={1,2,3}\n",
        "B={3,4,5}\n",
        "print(\"Union\",A|B)\n",
        "print(\"Intersection\",A&B)\n",
        "print(\"Difference\",A-B)\n",
        "print(\"Symmetric Difference\",A^B)"
      ],
      "metadata": {
        "colab": {
          "base_uri": "https://localhost:8080/"
        },
        "id": "khiLL60HHlh2",
        "outputId": "bef47f10-9e35-4274-dc7e-ee9f021f430e"
      },
      "execution_count": 59,
      "outputs": [
        {
          "output_type": "stream",
          "name": "stdout",
          "text": [
            "Union {1, 2, 3, 4, 5}\n",
            "Intersection {3}\n",
            "Difference {1, 2}\n",
            "Symmetric Difference {1, 2, 4, 5}\n"
          ]
        }
      ]
    },
    {
      "cell_type": "code",
      "source": [
        "s={1,2,3}\n",
        "s.add(4)\n",
        "print(s)\n",
        "s.remove(2)\n",
        "print(s)\n",
        "s.clear()"
      ],
      "metadata": {
        "colab": {
          "base_uri": "https://localhost:8080/"
        },
        "id": "B4QwCaPqIDtR",
        "outputId": "bc8a26a5-8a99-47c1-bc7c-6b216f71dd98"
      },
      "execution_count": 60,
      "outputs": [
        {
          "output_type": "stream",
          "name": "stdout",
          "text": [
            "{1, 2, 3, 4}\n",
            "{1, 3, 4}\n"
          ]
        }
      ]
    }
  ]
}