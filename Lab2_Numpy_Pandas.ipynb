{
  "nbformat": 4,
  "nbformat_minor": 0,
  "metadata": {
    "colab": {
      "provenance": [],
      "authorship_tag": "ABX9TyPMQDhiY6kONoVexAz1W9Sh",
      "include_colab_link": true
    },
    "kernelspec": {
      "name": "python3",
      "display_name": "Python 3"
    },
    "language_info": {
      "name": "python"
    }
  },
  "cells": [
    {
      "cell_type": "markdown",
      "metadata": {
        "id": "view-in-github",
        "colab_type": "text"
      },
      "source": [
        "<a href=\"https://colab.research.google.com/github/NandhithaMilkuri/Batch20_1352_PDS/blob/main/Lab2_Numpy_Pandas.ipynb\" target=\"_parent\"><img src=\"https://colab.research.google.com/assets/colab-badge.svg\" alt=\"Open In Colab\"/></a>"
      ]
    },
    {
      "cell_type": "code",
      "execution_count": 1,
      "metadata": {
        "colab": {
          "base_uri": "https://localhost:8080/"
        },
        "id": "k6XvWP9WKQ2e",
        "outputId": "cf8a4db8-5e48-4592-8240-5312676326fa"
      },
      "outputs": [
        {
          "output_type": "stream",
          "name": "stdout",
          "text": [
            "[[96 56 80]\n",
            " [67 89 78]\n",
            " [90 67 56]\n",
            " [89 90 78]\n",
            " [67 45 34]]\n"
          ]
        }
      ],
      "source": [
        "import numpy as np\n",
        "Marks=np.array([[96,56,80],[67,89,78],[90,67,56],[89,90,78],[67,45,34]])\n",
        "print(Marks)\n"
      ]
    },
    {
      "cell_type": "code",
      "source": [
        "avg_marks = Marks.mean(axis=1)\n",
        "min_marks = Marks.min(axis=1)\n",
        "max_marks = Marks.max(axis=1)\n",
        "print(\"\\nAverage marks per student:\", avg_marks)\n",
        "print(\"Minimum marks per student:\", min_marks)\n",
        "print(\"Maximum marks per student:\", max_marks)"
      ],
      "metadata": {
        "colab": {
          "base_uri": "https://localhost:8080/"
        },
        "id": "aoLNIlECMiIw",
        "outputId": "3cfa12b1-b7b1-409f-d50c-1f54323024ba"
      },
      "execution_count": 16,
      "outputs": [
        {
          "output_type": "stream",
          "name": "stdout",
          "text": [
            "\n",
            "Average marks per student: [77.33333333 78.         71.         85.66666667 48.66666667]\n",
            "Minimum marks per student: [56 67 56 78 34]\n",
            "Maximum marks per student: [96 89 90 90 67]\n"
          ]
        }
      ]
    },
    {
      "cell_type": "code",
      "source": [
        "print(\"\\nMarks of Students 2 to 4:\\n\", Marks[1:4])"
      ],
      "metadata": {
        "colab": {
          "base_uri": "https://localhost:8080/"
        },
        "id": "do2r1GguM1mH",
        "outputId": "a3592c0b-195a-4e66-8753-63548b0acdd8"
      },
      "execution_count": 18,
      "outputs": [
        {
          "output_type": "stream",
          "name": "stdout",
          "text": [
            "\n",
            "Marks of Students 2 to 4:\n",
            " [[67 89 78]\n",
            " [90 67 56]\n",
            " [89 90 78]]\n"
          ]
        }
      ]
    },
    {
      "cell_type": "code",
      "source": [
        "above_80 = Marks[(Marks > 80).all(axis=1)]\n",
        "print(\"\\nStudents scoring above 80 in all subjects:\\n\", above_80)\n"
      ],
      "metadata": {
        "colab": {
          "base_uri": "https://localhost:8080/"
        },
        "id": "0eOY-E50NT1n",
        "outputId": "857e8271-b1db-4b92-b6d0-1168633b4ef6"
      },
      "execution_count": 25,
      "outputs": [
        {
          "output_type": "stream",
          "name": "stdout",
          "text": [
            "\n",
            "Students scoring above 80 in all subjects:\n",
            " []\n"
          ]
        }
      ]
    },
    {
      "cell_type": "code",
      "source": [
        "reshaped = Marks.T\n",
        "print(\"\\nSubject-wise performance:\\n\", reshaped)"
      ],
      "metadata": {
        "colab": {
          "base_uri": "https://localhost:8080/"
        },
        "id": "-m3O0XHZQgFa",
        "outputId": "97838728-3029-4280-b45f-f8501e36401d"
      },
      "execution_count": 27,
      "outputs": [
        {
          "output_type": "stream",
          "name": "stdout",
          "text": [
            "\n",
            "Subject-wise performance:\n",
            " [[96 67 90 89 67]\n",
            " [56 89 67 90 45]\n",
            " [80 78 56 78 34]]\n"
          ]
        }
      ]
    },
    {
      "cell_type": "code",
      "source": [
        "import pandas as pd\n",
        "\n",
        "data = {\n",
        "    'Name': ['Nandhu', 'Arun', 'Vamshi', 'Sneha', 'Srinidhi'],\n",
        "    'ID': [101, 102, 103, 104, 105],\n",
        "    'Department': ['HR', 'IT', 'Finance', 'IT', 'Marketing'],\n",
        "    'Salary': [48000, 55000, 72000, 50000, 65000]\n",
        "}\n",
        "\n",
        "df = pd.DataFrame(data)\n",
        "print(\"Original DataFrame:\\n\", df)"
      ],
      "metadata": {
        "colab": {
          "base_uri": "https://localhost:8080/"
        },
        "id": "d8ORi2D-TrkD",
        "outputId": "ac3f57b3-dacd-4722-ebbc-76d1ba91b36b"
      },
      "execution_count": 28,
      "outputs": [
        {
          "output_type": "stream",
          "name": "stdout",
          "text": [
            "Original DataFrame:\n",
            "        Name   ID Department  Salary\n",
            "0    Nandhu  101         HR   48000\n",
            "1      Arun  102         IT   55000\n",
            "2    Vamshi  103    Finance   72000\n",
            "3     Sneha  104         IT   50000\n",
            "4  Srinidhi  105  Marketing   65000\n"
          ]
        }
      ]
    },
    {
      "cell_type": "code",
      "source": [
        "high_salary = df[df['Salary'] > 50000]\n",
        "print(\"\\nEmployees with Salary > 50,000:\\n\", high_salary)"
      ],
      "metadata": {
        "colab": {
          "base_uri": "https://localhost:8080/"
        },
        "id": "WvdwBDAgUF3O",
        "outputId": "509ce94c-032e-4f22-f6bc-3a786056d7fa"
      },
      "execution_count": 29,
      "outputs": [
        {
          "output_type": "stream",
          "name": "stdout",
          "text": [
            "\n",
            "Employees with Salary > 50,000:\n",
            "        Name   ID Department  Salary\n",
            "1      Arun  102         IT   55000\n",
            "2    Vamshi  103    Finance   72000\n",
            "4  Srinidhi  105  Marketing   65000\n"
          ]
        }
      ]
    },
    {
      "cell_type": "code",
      "source": [
        "sorted_df = df.sort_values(by='Salary', ascending=False)\n",
        "print(\"\\nSorted by Salary (Descending):\\n\", sorted_df)"
      ],
      "metadata": {
        "colab": {
          "base_uri": "https://localhost:8080/"
        },
        "id": "NBDX9y8TUPqC",
        "outputId": "0aa8abe0-41d0-48e4-b441-9d95a01f10e0"
      },
      "execution_count": 30,
      "outputs": [
        {
          "output_type": "stream",
          "name": "stdout",
          "text": [
            "\n",
            "Sorted by Salary (Descending):\n",
            "        Name   ID Department  Salary\n",
            "2    Vamshi  103    Finance   72000\n",
            "4  Srinidhi  105  Marketing   65000\n",
            "1      Arun  102         IT   55000\n",
            "3     Sneha  104         IT   50000\n",
            "0    Nandhu  101         HR   48000\n"
          ]
        }
      ]
    },
    {
      "cell_type": "code",
      "source": [
        "df['Bonus'] = df['Salary'] * 0.10\n",
        "print(\"\\nDataFrame with Bonus:\\n\", df)"
      ],
      "metadata": {
        "colab": {
          "base_uri": "https://localhost:8080/"
        },
        "id": "xPhzG753UU-z",
        "outputId": "6982abe0-eeb1-4d67-c8fa-e1b54f6155bb"
      },
      "execution_count": 31,
      "outputs": [
        {
          "output_type": "stream",
          "name": "stdout",
          "text": [
            "\n",
            "DataFrame with Bonus:\n",
            "        Name   ID Department  Salary   Bonus\n",
            "0    Nandhu  101         HR   48000  4800.0\n",
            "1      Arun  102         IT   55000  5500.0\n",
            "2    Vamshi  103    Finance   72000  7200.0\n",
            "3     Sneha  104         IT   50000  5000.0\n",
            "4  Srinidhi  105  Marketing   65000  6500.0\n"
          ]
        }
      ]
    },
    {
      "cell_type": "code",
      "source": [
        "total_expense = (df['Salary'] + df['Bonus']).sum()\n",
        "print(\"\\nTotal Salary Expense (including bonuses):\", total_expense)"
      ],
      "metadata": {
        "colab": {
          "base_uri": "https://localhost:8080/"
        },
        "id": "65nz2CoSUZ-b",
        "outputId": "0417c8d8-ca4b-4c5f-b263-fe2804d11754"
      },
      "execution_count": 32,
      "outputs": [
        {
          "output_type": "stream",
          "name": "stdout",
          "text": [
            "\n",
            "Total Salary Expense (including bonuses): 319000.0\n"
          ]
        }
      ]
    },
    {
      "cell_type": "code",
      "source": [
        "df.to_csv(\"employee_data.csv\", index=False)\n",
        "print(\"\\nData saved to employee_data.csv\")"
      ],
      "metadata": {
        "colab": {
          "base_uri": "https://localhost:8080/"
        },
        "id": "VHSaistlUegR",
        "outputId": "03531415-4a25-4307-a7bb-d57e2e4f1ebe"
      },
      "execution_count": 33,
      "outputs": [
        {
          "output_type": "stream",
          "name": "stdout",
          "text": [
            "\n",
            "Data saved to employee_data.csv\n"
          ]
        }
      ]
    }
  ]
}