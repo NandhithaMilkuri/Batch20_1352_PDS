{
  "nbformat": 4,
  "nbformat_minor": 0,
  "metadata": {
    "colab": {
      "provenance": [],
      "authorship_tag": "ABX9TyPw4TNxPo7BMEqxKLmjxSu7",
      "include_colab_link": true
    },
    "kernelspec": {
      "name": "python3",
      "display_name": "Python 3"
    },
    "language_info": {
      "name": "python"
    }
  },
  "cells": [
    {
      "cell_type": "markdown",
      "metadata": {
        "id": "view-in-github",
        "colab_type": "text"
      },
      "source": [
        "<a href=\"https://colab.research.google.com/github/NandhithaMilkuri/Batch20_1352_PDS/blob/main/Lab3_Assisgnment3.ipynb\" target=\"_parent\"><img src=\"https://colab.research.google.com/assets/colab-badge.svg\" alt=\"Open In Colab\"/></a>"
      ]
    },
    {
      "cell_type": "code",
      "execution_count": 1,
      "metadata": {
        "colab": {
          "base_uri": "https://localhost:8080/"
        },
        "id": "kxmVvRw5YXrw",
        "outputId": "82afa192-2d00-4d1d-e4c1-5b0e2c00b2a8"
      },
      "outputs": [
        {
          "output_type": "stream",
          "name": "stdout",
          "text": [
            "Test Scores (4x4):\n",
            " [[92 82 60 75]\n",
            " [65 50 76 55]\n",
            " [53 56 60 66]\n",
            " [58 58 92 60]] \n",
            "\n"
          ]
        }
      ],
      "source": [
        "import numpy as np\n",
        "scores = np.random.randint(50, 101, size=(4, 4))\n",
        "print(\"Test Scores (4x4):\\n\", scores, \"\\n\")\n"
      ]
    },
    {
      "cell_type": "code",
      "source": [
        "row_means = np.mean(scores, axis=1)\n",
        "col_means = np.mean(scores, axis=0)\n",
        "print(\"Row-wise Means:\", row_means)\n",
        "print(\"Column-wise Means:\", col_means, \"\\n\")"
      ],
      "metadata": {
        "colab": {
          "base_uri": "https://localhost:8080/"
        },
        "id": "rZfA_h66ZLA2",
        "outputId": "157094ba-14e6-42f8-a7fd-60b86d6314df"
      },
      "execution_count": 3,
      "outputs": [
        {
          "output_type": "stream",
          "name": "stdout",
          "text": [
            "Row-wise Means: [77.25 61.5  58.75 67.  ]\n",
            "Column-wise Means: [67.  61.5 72.  64. ] \n",
            "\n"
          ]
        }
      ]
    },
    {
      "cell_type": "code",
      "source": [
        "std_dev = np.std(scores)\n",
        "variance = np.var(scores)\n",
        "print(\"Standard Deviation (overall):\", std_dev)\n",
        "print(\"Variance (overall):\", variance, \"\\n\")"
      ],
      "metadata": {
        "colab": {
          "base_uri": "https://localhost:8080/"
        },
        "id": "nUsJYFgmZOCH",
        "outputId": "dc92a20c-297b-4655-955f-4037651315af"
      },
      "execution_count": 4,
      "outputs": [
        {
          "output_type": "stream",
          "name": "stdout",
          "text": [
            "Standard Deviation (overall): 12.922243419778162\n",
            "Variance (overall): 166.984375 \n",
            "\n"
          ]
        }
      ]
    },
    {
      "cell_type": "code",
      "source": [
        "global_max = np.max(scores)\n",
        "global_min = np.min(scores)\n",
        "max_index = np.unravel_index(np.argmax(scores), scores.shape)\n",
        "min_index = np.unravel_index(np.argmin(scores), scores.shape)\n",
        "print(\"Global Max:\", global_max, \"at index\", max_index)\n",
        "print(\"Global Min:\", global_min, \"at index\", min_index, \"\\n\")\n"
      ],
      "metadata": {
        "colab": {
          "base_uri": "https://localhost:8080/"
        },
        "id": "wyK9fpd7ZY6g",
        "outputId": "5d4da03b-8a39-4ea8-f625-8cef72d05de4"
      },
      "execution_count": 6,
      "outputs": [
        {
          "output_type": "stream",
          "name": "stdout",
          "text": [
            "Global Max: 92 at index (np.int64(0), np.int64(0))\n",
            "Global Min: 50 at index (np.int64(1), np.int64(1)) \n",
            "\n"
          ]
        }
      ]
    },
    {
      "cell_type": "code",
      "source": [
        "median = np.median(scores)\n",
        "print(\"Median (overall):\", median)"
      ],
      "metadata": {
        "colab": {
          "base_uri": "https://localhost:8080/"
        },
        "id": "pNQs8LKJZlPV",
        "outputId": "a623ed47-94bf-49f7-c888-d9babbee9827"
      },
      "execution_count": 7,
      "outputs": [
        {
          "output_type": "stream",
          "name": "stdout",
          "text": [
            "Median (overall): 60.0\n"
          ]
        }
      ]
    },
    {
      "cell_type": "code",
      "source": [
        "import numpy as np\n",
        "\n",
        "image = np.random.randint(0, 256, (3, 3, 3), dtype=np.uint8)\n",
        "print(\"Original RGB Image Array:\\n\", image, \"\\n\")"
      ],
      "metadata": {
        "colab": {
          "base_uri": "https://localhost:8080/"
        },
        "id": "gqb4x3rNZolp",
        "outputId": "256647ac-b464-44c1-bc0e-4f0037dcd72c"
      },
      "execution_count": 8,
      "outputs": [
        {
          "output_type": "stream",
          "name": "stdout",
          "text": [
            "Original RGB Image Array:\n",
            " [[[  2 169  17]\n",
            "  [175 148 121]\n",
            "  [195 133 254]]\n",
            "\n",
            " [[200 192 128]\n",
            "  [ 19  94  43]\n",
            "  [187  39  52]]\n",
            "\n",
            " [[198 179  27]\n",
            "  [220  61 153]\n",
            "  [138  49 108]]] \n",
            "\n"
          ]
        }
      ]
    },
    {
      "cell_type": "code",
      "source": [
        "red_channel   = image[:, :, 0]\n",
        "green_channel = image[:, :, 1]\n",
        "blue_channel  = image[:, :, 2]\n",
        "print(\"Red Channel:\\n\", red_channel, \"\\n\")\n",
        "print(\"Green Channel:\\n\", green_channel, \"\\n\")\n",
        "print(\"Blue Channel:\\n\", blue_channel, \"\\n\")"
      ],
      "metadata": {
        "colab": {
          "base_uri": "https://localhost:8080/"
        },
        "id": "ShHNUuC3ZyvO",
        "outputId": "5b578915-3833-4fc0-c8a6-99702de98367"
      },
      "execution_count": 11,
      "outputs": [
        {
          "output_type": "stream",
          "name": "stdout",
          "text": [
            "Red Channel:\n",
            " [[  2 175 195]\n",
            " [200  19 187]\n",
            " [198 220 138]] \n",
            "\n",
            "Green Channel:\n",
            " [[169 148 133]\n",
            " [192  94  39]\n",
            " [179  61  49]] \n",
            "\n",
            "Blue Channel:\n",
            " [[ 17 121 254]\n",
            " [128  43  52]\n",
            " [ 27 153 108]] \n",
            "\n"
          ]
        }
      ]
    },
    {
      "cell_type": "code",
      "source": [
        "avg_red   = np.mean(red_channel)\n",
        "avg_green = np.mean(green_channel)\n",
        "avg_blue  = np.mean(blue_channel)\n",
        "\n",
        "print(\"Average Intensities - R:\", avg_red,\n",
        "      \"G:\", avg_green,\n",
        "      \"B:\", avg_blue, \"\\n\")\n"
      ],
      "metadata": {
        "colab": {
          "base_uri": "https://localhost:8080/"
        },
        "id": "EyUQATstaF9H",
        "outputId": "d8a2725d-6e21-4c53-cc52-e8048b13cce4"
      },
      "execution_count": 12,
      "outputs": [
        {
          "output_type": "stream",
          "name": "stdout",
          "text": [
            "Average Intensities - R: 148.22222222222223 G: 118.22222222222223 B: 100.33333333333333 \n",
            "\n"
          ]
        }
      ]
    },
    {
      "cell_type": "code",
      "source": [
        "bright_image = np.clip(image + 50, 0, 255)\n",
        "print(\"Brightened Image Array:\\n\", bright_image, \"\\n\")"
      ],
      "metadata": {
        "colab": {
          "base_uri": "https://localhost:8080/"
        },
        "id": "XWpl6pc4aTe5",
        "outputId": "017afdf9-e488-4658-e446-47fdeabcf9f1"
      },
      "execution_count": 13,
      "outputs": [
        {
          "output_type": "stream",
          "name": "stdout",
          "text": [
            "Brightened Image Array:\n",
            " [[[ 52 219  67]\n",
            "  [225 198 171]\n",
            "  [245 183  48]]\n",
            "\n",
            " [[250 242 178]\n",
            "  [ 69 144  93]\n",
            "  [237  89 102]]\n",
            "\n",
            " [[248 229  77]\n",
            "  [ 14 111 203]\n",
            "  [188  99 158]]] \n",
            "\n"
          ]
        }
      ]
    }
  ]
}